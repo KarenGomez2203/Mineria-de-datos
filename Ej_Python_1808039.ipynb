{
 "cells": [
  {
   "cell_type": "markdown",
   "metadata": {},
   "source": [
    "# Ejercicios básicos de Python "
   ]
  },
  {
   "cell_type": "markdown",
   "metadata": {},
   "source": [
    "## Ejercicio 1\n",
    "##### Realiza una variable con tu matricula y realiza una secuencia de imprimir con tu nombre y tu matricula concatenados."
   ]
  },
  {
   "cell_type": "code",
   "execution_count": 63,
   "metadata": {},
   "outputs": [
    {
     "name": "stdout",
     "output_type": "stream",
     "text": [
      "Introduce tu matricula:1808039\n",
      "Introduce tu nombre:Ana Karen Gómez Alonzo\n",
      "Ana Karen Gómez Alonzo 1808039\n"
     ]
    }
   ],
   "source": [
    "Matricula = int(input(\"Introduce tu matricula:\" ))\n",
    "Nombre = str(input(\"Introduce tu nombre:\" ))\n",
    "print(Nombre,Matricula)"
   ]
  },
  {
   "cell_type": "markdown",
   "metadata": {},
   "source": [
    "## Ejercicio 2\n",
    "##### Pidiendo el input del usuario pide dos números y crea una pequeña calculadora con los operadores básicos de suma, resta, multiplicación, división, y exponente."
   ]
  },
  {
   "cell_type": "code",
   "execution_count": 42,
   "metadata": {},
   "outputs": [
    {
     "name": "stdout",
     "output_type": "stream",
     "text": [
      "Introduce el primer número:100\n",
      "Introduce el segundo número:2\n"
     ]
    }
   ],
   "source": [
    "a = int(input(\"Introduce el primer número:\"))\n",
    "b = int(input(\"Introduce el segundo número:\"))  "
   ]
  },
  {
   "cell_type": "markdown",
   "metadata": {},
   "source": [
    "### Introducir: \n",
    "- 1 : Si desea sumar.\n",
    "- 2 : Si desea restar.\n",
    "- 3 : Si desea multiplicar.\n",
    "- 4 : Si desea dividir.\n",
    "- 5 : Si desea sacar el exponencial."
   ]
  },
  {
   "cell_type": "code",
   "execution_count": 62,
   "metadata": {
    "scrolled": true
   },
   "outputs": [
    {
     "name": "stdout",
     "output_type": "stream",
     "text": [
      "Introducir la opción deseada:3\n",
      "100 x 2 = 200\n"
     ]
    }
   ],
   "source": [
    "c = int(input(\"Introducir la opción deseada:\"))\n",
    "if c == 1 :\n",
    "    r = a + b\n",
    "    print(a, \"+\", b, \"=\", r)\n",
    "elif c == 2 :\n",
    "    r = a - b\n",
    "    print(a, \"-\", b, \"=\", r)\n",
    "elif c == 3 :\n",
    "    r = a * b\n",
    "    print(a, \"x\", b, \"=\", r)\n",
    "elif c == 4 :\n",
    "    r = a / b\n",
    "    print(a, \"/\", b, \"=\", r)    \n",
    "elif c == 5 :\n",
    "    r = a ** b\n",
    "    print(a, \"^\", b, \"=\", r)        \n",
    "else :\n",
    "    print(\"inválido\")"
   ]
  },
  {
   "cell_type": "markdown",
   "metadata": {},
   "source": [
    "## Ejercicio 3\n",
    "##### Con loop while o for, realiza una lista de 10 numeros multiplos de 3, y después realiza una función de loop que sume todos los números dentro del arreglo."
   ]
  },
  {
   "cell_type": "code",
   "execution_count": 66,
   "metadata": {},
   "outputs": [
    {
     "name": "stdout",
     "output_type": "stream",
     "text": [
      "[3, 6, 9, 12, 15, 18, 21, 24, 27, 30]\n",
      "La suma de los números es: 165\n"
     ]
    }
   ],
   "source": [
    "y = 0\n",
    "lista = []\n",
    "for i in range(0,10):\n",
    "    y = y + 3\n",
    "    lista.append(y)\n",
    "print(lista)\n",
    "\n",
    "\n",
    "total = 0\n",
    "for sum in lista:\n",
    "    total = total + sum\n",
    "\n",
    "print(\"La suma de los números es:\", total)\n"
   ]
  },
  {
   "cell_type": "markdown",
   "metadata": {},
   "source": [
    "###### Agregar un elemento a la lista\n",
    "[Append](https://www.programiz.com/python-programming/methods/list/append)\n",
    "###### Como sumar todos los elementos de una lista\n",
    "[Sumar Lista](https://www.pythonlikeyoumeanit.com/Module2_EssentialsOfPython/ForLoops.html)"
   ]
  },
  {
   "cell_type": "markdown",
   "metadata": {},
   "source": [
    "## Ejercicio 4\n",
    "- Con una función de if else, revisar si un número es par o es impar.\n",
    "- Con una función de if else, revisar si un número es primo o no."
   ]
  },
  {
   "cell_type": "code",
   "execution_count": 82,
   "metadata": {},
   "outputs": [
    {
     "name": "stdout",
     "output_type": "stream",
     "text": [
      "Introducir un número:18\n",
      "El número 18 es par\n"
     ]
    }
   ],
   "source": [
    "x = int(input(\"Introducir un número:\"))\n",
    "if x%2 == 0:\n",
    "    print(\"El número\", x ,\"es par\")\n",
    "else: print(\"El número\", x ,\"es impar\")"
   ]
  },
  {
   "cell_type": "code",
   "execution_count": 93,
   "metadata": {},
   "outputs": [
    {
     "name": "stdout",
     "output_type": "stream",
     "text": [
      "Introducir un número:67\n",
      "El número 67 es primo\n"
     ]
    }
   ],
   "source": [
    "y = 0\n",
    "y = int(input(\"Introducir un número:\"))\n",
    "if y == 1:\n",
    "    print(\"El número\", y ,\"no es primo\")\n",
    "    \n",
    "elif y == 2: \n",
    "    print(\"El número\", y, \"es primo\")\n",
    "    \n",
    "else:    \n",
    "    for i in range(2, y-1 ):\n",
    "        r = y / i    \n",
    "        if r % 2 == 0:\n",
    "            print(\"El número\", y ,\"no es primo\")\n",
    "            break\n",
    "        else :\n",
    "            print(\"El número\", y, \"es primo\")\n",
    "            break"
   ]
  },
  {
   "cell_type": "markdown",
   "metadata": {},
   "source": [
    "## Ejercicio 5\n",
    "##### Utilizando diferentes clases en python, crea una calculadora con los operadores básicos de suma, resta, multiplicación, división, y exponente."
   ]
  },
  {
   "cell_type": "code",
   "execution_count": 77,
   "metadata": {},
   "outputs": [
    {
     "name": "stdout",
     "output_type": "stream",
     "text": [
      "90\n",
      "95\n",
      "500\n",
      "160.0\n",
      "25\n"
     ]
    }
   ],
   "source": [
    "def sumar(a,b):\n",
    "    r = a + b\n",
    "    return r\n",
    "\n",
    "def restar(a,b):\n",
    "    r = a - b\n",
    "    return r\n",
    "\n",
    "def multiplicar(a,b):\n",
    "    r = a * b\n",
    "    return r\n",
    "\n",
    "def dividir(a,b):\n",
    "    r = a / b\n",
    "    return r\n",
    "\n",
    "def elevar(a,b):\n",
    "    r = a ** b\n",
    "    return r\n",
    "\n",
    "print(sumar(10,80))\n",
    "print(restar(120,25))\n",
    "print(multiplicar(50,10))\n",
    "print(dividir(800,5))\n",
    "print(elevar(5,2))"
   ]
  },
  {
   "cell_type": "markdown",
   "metadata": {},
   "source": [
    "# Ejercicios con estructuras básicas de python."
   ]
  },
  {
   "cell_type": "markdown",
   "metadata": {},
   "source": [
    "## Tuplas\n",
    "- Crear una variable flotante, integer, boleana y compleja e imprimir el tipo de variable que es."
   ]
  },
  {
   "cell_type": "code",
   "execution_count": 111,
   "metadata": {},
   "outputs": [
    {
     "name": "stdout",
     "output_type": "stream",
     "text": [
      "Integer es una variable tipo: <class 'int'>\n",
      "Flotante es una variable tipo: <class 'float'>\n",
      "Compleja es una variable tipo: <class 'complex'>\n",
      "Booleana es una variable tipo: <class 'bool'>\n"
     ]
    }
   ],
   "source": [
    "integer = 80*20\n",
    "flotante = 159/5\n",
    "compleja = 3.45+0j ** 100\n",
    "booleana = 5 < 6\n",
    "\n",
    "print(\"Integer es una variable tipo:\", type(integer))\n",
    "print(\"Flotante es una variable tipo:\", type(flotante))\n",
    "print(\"Compleja es una variable tipo:\", type(compleja))\n",
    "print(\"Booleana es una variable tipo:\", type(booleana))"
   ]
  },
  {
   "cell_type": "markdown",
   "metadata": {},
   "source": [
    "[Variable tipo booleana](https://www.mclibre.org/consultar/python/lecciones/python-booleanos.html#:~:text=Una%20variable%20booleana%20es%20una,el%20resto%20se%20consideran%20True.)"
   ]
  },
  {
   "cell_type": "markdown",
   "metadata": {},
   "source": [
    "- Crear una tupla con valores enteros imprimir el primer y ultimo valor."
   ]
  },
  {
   "cell_type": "code",
   "execution_count": 145,
   "metadata": {},
   "outputs": [
    {
     "name": "stdout",
     "output_type": "stream",
     "text": [
      "El primer elemento es: 50\n",
      "El último elemento es: 120\n"
     ]
    }
   ],
   "source": [
    "Tupla = (50,25,80,65,120,)\n",
    "last = len(Tupla)\n",
    "print(\"El primer elemento es:\", Tupla[0])\n",
    "print(\"El último elemento es:\", Tupla[-1])"
   ]
  },
  {
   "cell_type": "markdown",
   "metadata": {},
   "source": [
    "- Añadir 3 valores de string a la tupla."
   ]
  },
  {
   "cell_type": "code",
   "execution_count": 146,
   "metadata": {},
   "outputs": [
    {
     "name": "stdout",
     "output_type": "stream",
     "text": [
      "(50, 25, 80, 65, 120, 'ana', 'karen', 'gomez')\n"
     ]
    }
   ],
   "source": [
    "Tupla += ('ana', 'karen', 'gomez',)\n",
    "print(Tupla)"
   ]
  },
  {
   "cell_type": "markdown",
   "metadata": {},
   "source": [
    "[Agregar variable en Tupla](https://stackoverflow.com/questions/16730339/python-add-item-to-the-tuple)"
   ]
  },
  {
   "cell_type": "markdown",
   "metadata": {},
   "source": [
    "- Verificar si una variable existe dentro de la tupla."
   ]
  },
  {
   "cell_type": "code",
   "execution_count": 153,
   "metadata": {},
   "outputs": [
    {
     "name": "stdout",
     "output_type": "stream",
     "text": [
      "¿ana esta en la tupla? True\n",
      "¿80 esta en la tupla? True\n",
      "¿69 esta en la tupla? False\n"
     ]
    }
   ],
   "source": [
    "print(\"¿ana esta en la tupla?\", 'ana' in Tupla)\n",
    "print(\"¿80 esta en la tupla?\", 80 in Tupla)\n",
    "print(\"¿69 esta en la tupla?\", 69 in Tupla)"
   ]
  },
  {
   "cell_type": "markdown",
   "metadata": {},
   "source": [
    "## Listas"
   ]
  },
  {
   "cell_type": "markdown",
   "metadata": {},
   "source": [
    "- Crear una lista con 40 elementos aleatorios enteros."
   ]
  },
  {
   "cell_type": "code",
   "execution_count": 282,
   "metadata": {},
   "outputs": [
    {
     "name": "stdout",
     "output_type": "stream",
     "text": [
      "Ingresa hasta que número generar los números aleatorios:100\n",
      "[100, 17, 79, 89, 43, 87, 8, 15, 44, 94, 74, 91, 76, 5, 6, 91, 62, 11, 37, 74, 78, 20, 80, 97, 32, 68, 14, 53, 71, 66, 100, 13, 70, 81, 94, 4, 66, 3, 17, 47]\n",
      "Tamaño de la liste 40\n"
     ]
    }
   ],
   "source": [
    "import random\n",
    "NumAl = []\n",
    "k = int(input(\"Ingresa hasta que número generar los números aleatorios:\"))\n",
    "\n",
    "for i in range(0,40):\n",
    "    NumAl.append(random.randint(0,k))\n",
    "print (NumAl)\n",
    "print(\"Tamaño de la liste\", len(NumAl))"
   ]
  },
  {
   "cell_type": "markdown",
   "metadata": {},
   "source": [
    "[Numeros aleatorios](https://www.mclibre.org/consultar/python/lecciones/python-biblioteca-random.html)"
   ]
  },
  {
   "cell_type": "markdown",
   "metadata": {},
   "source": [
    "- Con una funcion (def) crear dos listas nuevas a partir de la lista creada por numeros aleatorios, en la cual en una esten los elementos pares, y en la otra los elementos impares."
   ]
  },
  {
   "cell_type": "code",
   "execution_count": 283,
   "metadata": {},
   "outputs": [
    {
     "name": "stdout",
     "output_type": "stream",
     "text": [
      "Lista de los números pares: [100, 8, 44, 94, 74, 76, 6, 62, 74, 78, 20, 80, 32, 68, 14, 66, 100, 70, 94, 4, 66]\n",
      "Lista de los números impares: [17, 79, 89, 43, 87, 15, 91, 5, 91, 11, 37, 97, 53, 71, 13, 81, 3, 17, 47]\n"
     ]
    }
   ],
   "source": [
    "pares = []\n",
    "impares = []\n",
    "def PoI(x):\n",
    "    if x%2 == 0:\n",
    "        R = 0 \n",
    "    else: R = 1 \n",
    "    return R\n",
    "\n",
    "for i in range(0,40):\n",
    "    x = PoI(NumAl[i])\n",
    "    if x == 0:\n",
    "        pares.append(NumAl[i])\n",
    "    else: impares.append(NumAl[i])\n",
    "        \n",
    "print(\"Lista de los números pares:\", pares)\n",
    "print(\"Lista de los números impares:\", impares)"
   ]
  },
  {
   "cell_type": "markdown",
   "metadata": {},
   "source": [
    "- Crear dos variables con la longitud de ambas listas nuevas e imprimir las variables."
   ]
  },
  {
   "cell_type": "code",
   "execution_count": 284,
   "metadata": {},
   "outputs": [
    {
     "name": "stdout",
     "output_type": "stream",
     "text": [
      "21\n",
      "19\n"
     ]
    }
   ],
   "source": [
    "varP = len(pares)\n",
    "varI = len(impares)\n",
    "print(varP)\n",
    "print(varI)"
   ]
  },
  {
   "cell_type": "markdown",
   "metadata": {},
   "source": [
    "- Ordenar los elementos de la lista par de mayor a menor, y los de la lista impar de menor a mayor."
   ]
  },
  {
   "cell_type": "code",
   "execution_count": 285,
   "metadata": {},
   "outputs": [
    {
     "name": "stdout",
     "output_type": "stream",
     "text": [
      "Lista de los números pares: [100, 100, 94, 94, 80, 78, 76, 74, 74, 70, 68, 66, 66, 62, 44, 32, 20, 14, 8, 6, 4]\n",
      "Lista de los números impares: [3, 5, 11, 13, 15, 17, 17, 37, 43, 47, 53, 71, 79, 81, 87, 89, 91, 91, 97]\n"
     ]
    }
   ],
   "source": [
    "pares.sort(reverse=True)\n",
    "impares.sort()\n",
    "print(\"Lista de los números pares:\", pares)\n",
    "print(\"Lista de los números impares:\", impares)"
   ]
  },
  {
   "cell_type": "markdown",
   "metadata": {},
   "source": [
    "[Ordenar lista](https://www.programiz.com/python-programming/methods/list/sort)"
   ]
  },
  {
   "cell_type": "markdown",
   "metadata": {},
   "source": [
    "- Utilizar al menos cuatro de las funciones de listas en python en la lista original de 40 elementos."
   ]
  },
  {
   "cell_type": "code",
   "execution_count": 286,
   "metadata": {},
   "outputs": [
    {
     "name": "stdout",
     "output_type": "stream",
     "text": [
      "[100, 17, 79, 89, 43, 87, 8, 15, 44, 94, 74, 91, 76, 5, 6, 91, 62, 11, 37, 74, 78, 20, 80, 97, 32, 68, 14, 53, 71, 66, 100, 13, 70, 81, 94, 4, 66, 3, 17, 47, 7]\n",
      "[100, 17, 79, 89, 43, 87, 8, 15, 44, 94, 74, 91, 76, 5, 6, 91, 62, 11, 37, 74, 78, 20, 80, 97, 32, 68, 14, 53, 71, 66, 100, 13, 70, 81, 94, 4, 66, 3, 17, 47]\n",
      "[17, 79, 89, 43, 87, 8, 15, 44, 94, 74, 91, 76, 5, 6, 91, 62, 11, 37, 74, 78, 20, 80, 97, 32, 68, 14, 53, 71, 66, 100, 13, 70, 81, 94, 4, 66, 3, 17, 47]\n",
      "[17, 79, 89, 43, 87, 2, 8, 15, 44, 94, 74, 91, 76, 5, 6, 91, 62, 11, 37, 74, 78, 20, 80, 97, 32, 68, 14, 53, 71, 66, 100, 13, 70, 81, 94, 4, 66, 3, 17, 47]\n"
     ]
    }
   ],
   "source": [
    "NumAl.append(7)\n",
    "print(NumAl)\n",
    "NumAl.remove(7)\n",
    "print(NumAl)\n",
    "NumAl.pop(0)\n",
    "#Elimina el primer numero\n",
    "print(NumAl)\n",
    "NumAl.insert(5,2)\n",
    "#Inserta el número 2 en la posicion 5\n",
    "print(NumAl)"
   ]
  },
  {
   "cell_type": "markdown",
   "metadata": {},
   "source": [
    "## Diccionarios"
   ]
  },
  {
   "cell_type": "markdown",
   "metadata": {},
   "source": [
    "- Crear un diccionario de 6 personas que conozcas con su primer nombre y su edad."
   ]
  },
  {
   "cell_type": "code",
   "execution_count": 258,
   "metadata": {},
   "outputs": [
    {
     "name": "stdout",
     "output_type": "stream",
     "text": [
      "{'Ana': 20, 'Carolina': 52, 'Veronica': 21, 'Selene': 27, 'Luis': 32, 'Estela': 50}\n"
     ]
    }
   ],
   "source": [
    "Diccionario = {'Ana':20,'Carolina':52,'Veronica':21,'Selene':27,'Luis':32,'Estela':50}\n",
    "print(Diccionario)"
   ]
  },
  {
   "cell_type": "markdown",
   "metadata": {},
   "source": [
    "- Crear una lista con los valores de la edad y reacomodar la lista de menor a mayor valor."
   ]
  },
  {
   "cell_type": "code",
   "execution_count": 259,
   "metadata": {},
   "outputs": [
    {
     "name": "stdout",
     "output_type": "stream",
     "text": [
      "[20, 21, 27, 32, 50, 52]\n"
     ]
    }
   ],
   "source": [
    "Edad = sorted(list(Diccionario.values()))\n",
    "print(Edad)"
   ]
  },
  {
   "cell_type": "markdown",
   "metadata": {},
   "source": [
    "- Usando el diccionario y un loop, imprimir solo los nombres."
   ]
  },
  {
   "cell_type": "code",
   "execution_count": 260,
   "metadata": {},
   "outputs": [
    {
     "name": "stdout",
     "output_type": "stream",
     "text": [
      "Ana\n",
      "Carolina\n",
      "Veronica\n",
      "Selene\n",
      "Luis\n",
      "Estela\n"
     ]
    }
   ],
   "source": [
    "for i in Diccionario:\n",
    "    print(i)"
   ]
  },
  {
   "cell_type": "markdown",
   "metadata": {},
   "source": [
    "- Añadir dos personas nuevas a tu diccionario, incluyendo edad."
   ]
  },
  {
   "cell_type": "code",
   "execution_count": 261,
   "metadata": {},
   "outputs": [
    {
     "name": "stdout",
     "output_type": "stream",
     "text": [
      "{'Ana': 20, 'Carolina': 52, 'Veronica': 21, 'Selene': 27, 'Luis': 32, 'Estela': 50, 'Alejandro': 22, 'Raquel': 44}\n"
     ]
    }
   ],
   "source": [
    "Diccionario ['Alejandro'] = 22\n",
    "Diccionario ['Raquel'] = 44\n",
    "print(Diccionario)"
   ]
  },
  {
   "cell_type": "markdown",
   "metadata": {},
   "source": [
    "## Sets"
   ]
  },
  {
   "cell_type": "markdown",
   "metadata": {},
   "source": [
    "- Crea un set con 100 numeros aleatorios enteros del 1 al 25."
   ]
  },
  {
   "cell_type": "code",
   "execution_count": 318,
   "metadata": {},
   "outputs": [
    {
     "name": "stdout",
     "output_type": "stream",
     "text": [
      "{1, 2, 3, 4, 5, 6, 7, 8, 9, 10, 11, 12, 13, 14, 15, 16, 17, 18, 19, 20, 21, 22, 23, 24, 25}\n"
     ]
    }
   ],
   "source": [
    "Set = set()\n",
    "for i in range(0,100):\n",
    "    Set.add(random.randint(1,25))\n",
    "print(Set)"
   ]
  },
  {
   "cell_type": "markdown",
   "metadata": {},
   "source": [
    "- Comprueba la longitud de tu set."
   ]
  },
  {
   "cell_type": "code",
   "execution_count": 328,
   "metadata": {},
   "outputs": [
    {
     "name": "stdout",
     "output_type": "stream",
     "text": [
      "25\n"
     ]
    }
   ],
   "source": [
    "print(len(Set))"
   ]
  },
  {
   "cell_type": "markdown",
   "metadata": {},
   "source": [
    "- Crea una lista de 5 numeros aleatorios del 1 al 10 y comprueba si cada valor aparece en el set inicial."
   ]
  },
  {
   "cell_type": "code",
   "execution_count": 327,
   "metadata": {},
   "outputs": [
    {
     "name": "stdout",
     "output_type": "stream",
     "text": [
      "[6, 5, 9, 6, 5]\n",
      "El número 6 esta en el Set: True\n",
      "El número 5 esta en el Set: True\n",
      "El número 9 esta en el Set: True\n",
      "El número 6 esta en el Set: True\n",
      "El número 5 esta en el Set: True\n"
     ]
    }
   ],
   "source": [
    "Lista = []\n",
    "for i in range(0,5):\n",
    "    Lista.append(random.randint(1,10))\n",
    "print(Lista)\n",
    "\n",
    "for j in range(0, len(Lista)):\n",
    "        print(\"El número\", Lista[j] , \"esta en el Set:\", Lista[j] in Set)\n",
    "    "
   ]
  }
 ],
 "metadata": {
  "kernelspec": {
   "display_name": "Python 3",
   "language": "python",
   "name": "python3"
  },
  "language_info": {
   "codemirror_mode": {
    "name": "ipython",
    "version": 3
   },
   "file_extension": ".py",
   "mimetype": "text/x-python",
   "name": "python",
   "nbconvert_exporter": "python",
   "pygments_lexer": "ipython3",
   "version": "3.8.5"
  }
 },
 "nbformat": 4,
 "nbformat_minor": 4
}
